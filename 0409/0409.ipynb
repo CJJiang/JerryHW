{
 "cells": [
  {
   "cell_type": "markdown",
   "metadata": {},
   "source": [
    "# HW1"
   ]
  },
  {
   "cell_type": "code",
   "execution_count": 52,
   "metadata": {},
   "outputs": [
    {
     "name": "stdout",
     "output_type": "stream",
     "text": [
      "餐廳名稱:阿基師餐廳\n",
      "烹飪方式:煎、炒、滷、拌、烤，通通難不倒\n",
      "flavors的屬性（List）\n",
      "['巧克力', '香草', '草莓', '青蘋果', '花生', '芒果']\n",
      "餐廳名稱:冰淇淋⼩店\n",
      "烹飪方式:無\n",
      "我喜歡的口味:\n",
      "巧克力  香草  草莓  青蘋果  花生  芒果  "
     ]
    }
   ],
   "source": [
    "class Restaurant():\n",
    "    def __init__(self,name,cook):\n",
    "        self.name = name\n",
    "        self.cook = cook\n",
    "    def describe_restaurant(self):\n",
    "        print(\"餐廳名稱:\"+self.name)\n",
    "        print(\"烹飪方式:\"+self.cook)\n",
    "restaurant = Restaurant(name='阿基師餐廳',cook='煎、炒、滷、拌、烤，通通難不倒')\n",
    "restaurant.describe_restaurant()\n",
    "class IceCreamStand(Restaurant):\n",
    "    def __init__(self,name,cook,flavors):\n",
    "        super().__init__(name,cook)\n",
    "        self.flavors=flavors\n",
    "    def show_flavors(self):\n",
    "        print(\"我喜歡的口味:\")\n",
    "        for flavor in self.flavors:\n",
    "            print(flavor,end='  ')\n",
    "print('flavors的屬性（List）')\n",
    "print(icecreamstand.flavors)\n",
    "icecreamstand = IceCreamStand(name='冰淇淋⼩店',cook='無',flavors=['巧克力','香草','草莓','青蘋果','花生','芒果'])\n",
    "icecreamstand.describe_restaurant()\n",
    "icecreamstand.show_flavors()"
   ]
  },
  {
   "cell_type": "markdown",
   "metadata": {},
   "source": [
    "# HW2"
   ]
  },
  {
   "cell_type": "code",
   "execution_count": 50,
   "metadata": {},
   "outputs": [],
   "source": [
    "class A(object):\n",
    "    def go(self):\n",
    "        print(\"go A go!\")\n",
    "    def stop(self):\n",
    "        print(\"stop A stop!\")\n",
    "    def pause(self):\n",
    "        raise Exception(\"Not Implemented\")\n",
    "class B(A):\n",
    "    def go(self):\n",
    "        super(B,self).go()\n",
    "        print(\"go B go!\")\n",
    "class C(A):\n",
    "    def go(self):\n",
    "        super(C,self).go()\n",
    "        print(\"go C go!\")\n",
    "    def stop(self):\n",
    "        super(C,self).stop()\n",
    "        print(\"stop C stop!\")\n",
    "class D(B,C):\n",
    "    def go(self):\n",
    "        super(D,self).go()\n",
    "        print(\"go D go!\")\n",
    "    def stop(self):\n",
    "        super(D,self).stop()\n",
    "        print(\"stop D stop!\")\n",
    "    def pause(self):\n",
    "        print(\"wait D wait!\")\n",
    "class E(B,C):\n",
    "    pass "
   ]
  },
  {
   "cell_type": "code",
   "execution_count": 51,
   "metadata": {},
   "outputs": [
    {
     "name": "stdout",
     "output_type": "stream",
     "text": [
      "go A go!\n",
      "go A go!\n",
      "go B go!\n",
      "go A go!\n",
      "go C go!\n",
      "go A go!\n",
      "go C go!\n",
      "go B go!\n",
      "go D go!\n",
      "go A go!\n",
      "go C go!\n",
      "go B go!\n",
      "stop A stop!\n",
      "stop A stop!\n",
      "stop A stop!\n",
      "stop C stop!\n",
      "stop A stop!\n",
      "stop C stop!\n",
      "stop D stop!\n",
      "stop A stop!\n",
      "stop C stop!\n"
     ]
    },
    {
     "ename": "Exception",
     "evalue": "Not Implemented",
     "output_type": "error",
     "traceback": [
      "\u001b[1;31m---------------------------------------------------------------------------\u001b[0m",
      "\u001b[1;31mException\u001b[0m                                 Traceback (most recent call last)",
      "\u001b[1;32m<ipython-input-51-45df6d5db2ea>\u001b[0m in \u001b[0;36m<module>\u001b[1;34m()\u001b[0m\n\u001b[0;32m     14\u001b[0m \u001b[0md\u001b[0m\u001b[1;33m.\u001b[0m\u001b[0mstop\u001b[0m\u001b[1;33m(\u001b[0m\u001b[1;33m)\u001b[0m\u001b[1;33m\u001b[0m\u001b[0m\n\u001b[0;32m     15\u001b[0m \u001b[0me\u001b[0m\u001b[1;33m.\u001b[0m\u001b[0mstop\u001b[0m\u001b[1;33m(\u001b[0m\u001b[1;33m)\u001b[0m\u001b[1;33m\u001b[0m\u001b[0m\n\u001b[1;32m---> 16\u001b[1;33m \u001b[0ma\u001b[0m\u001b[1;33m.\u001b[0m\u001b[0mpause\u001b[0m\u001b[1;33m(\u001b[0m\u001b[1;33m)\u001b[0m\u001b[1;33m\u001b[0m\u001b[0m\n\u001b[0m\u001b[0;32m     17\u001b[0m \u001b[0mb\u001b[0m\u001b[1;33m.\u001b[0m\u001b[0mpause\u001b[0m\u001b[1;33m(\u001b[0m\u001b[1;33m)\u001b[0m\u001b[1;33m\u001b[0m\u001b[0m\n\u001b[0;32m     18\u001b[0m \u001b[0mc\u001b[0m\u001b[1;33m.\u001b[0m\u001b[0mpause\u001b[0m\u001b[1;33m(\u001b[0m\u001b[1;33m)\u001b[0m\u001b[1;33m\u001b[0m\u001b[0m\n",
      "\u001b[1;32m<ipython-input-50-51eb4eaf9a23>\u001b[0m in \u001b[0;36mpause\u001b[1;34m(self)\u001b[0m\n\u001b[0;32m      5\u001b[0m         \u001b[0mprint\u001b[0m\u001b[1;33m(\u001b[0m\u001b[1;34m\"stop A stop!\"\u001b[0m\u001b[1;33m)\u001b[0m\u001b[1;33m\u001b[0m\u001b[0m\n\u001b[0;32m      6\u001b[0m     \u001b[1;32mdef\u001b[0m \u001b[0mpause\u001b[0m\u001b[1;33m(\u001b[0m\u001b[0mself\u001b[0m\u001b[1;33m)\u001b[0m\u001b[1;33m:\u001b[0m\u001b[1;33m\u001b[0m\u001b[0m\n\u001b[1;32m----> 7\u001b[1;33m         \u001b[1;32mraise\u001b[0m \u001b[0mException\u001b[0m\u001b[1;33m(\u001b[0m\u001b[1;34m\"Not Implemented\"\u001b[0m\u001b[1;33m)\u001b[0m\u001b[1;33m\u001b[0m\u001b[0m\n\u001b[0m\u001b[0;32m      8\u001b[0m \u001b[1;32mclass\u001b[0m \u001b[0mB\u001b[0m\u001b[1;33m(\u001b[0m\u001b[0mA\u001b[0m\u001b[1;33m)\u001b[0m\u001b[1;33m:\u001b[0m\u001b[1;33m\u001b[0m\u001b[0m\n\u001b[0;32m      9\u001b[0m     \u001b[1;32mdef\u001b[0m \u001b[0mgo\u001b[0m\u001b[1;33m(\u001b[0m\u001b[0mself\u001b[0m\u001b[1;33m)\u001b[0m\u001b[1;33m:\u001b[0m\u001b[1;33m\u001b[0m\u001b[0m\n",
      "\u001b[1;31mException\u001b[0m: Not Implemented"
     ]
    }
   ],
   "source": [
    "a=A()\n",
    "b=B()\n",
    "c=C()\n",
    "d=D()\n",
    "e=E()\n",
    "a.go()\n",
    "b.go()\n",
    "c.go()\n",
    "d.go()\n",
    "e.go()\n",
    "a.stop()\n",
    "b.stop()\n",
    "c.stop()\n",
    "d.stop()\n",
    "e.stop()\n",
    "a.pause()\n",
    "b.pause()\n",
    "c.pause()\n",
    "d.pause()\n",
    "e.pause() "
   ]
  },
  {
   "cell_type": "code",
   "execution_count": null,
   "metadata": {},
   "outputs": [],
   "source": []
  }
 ],
 "metadata": {
  "kernelspec": {
   "display_name": "Python 3",
   "language": "python",
   "name": "python3"
  },
  "language_info": {
   "codemirror_mode": {
    "name": "ipython",
    "version": 3
   },
   "file_extension": ".py",
   "mimetype": "text/x-python",
   "name": "python",
   "nbconvert_exporter": "python",
   "pygments_lexer": "ipython3",
   "version": "3.6.4"
  }
 },
 "nbformat": 4,
 "nbformat_minor": 2
}
