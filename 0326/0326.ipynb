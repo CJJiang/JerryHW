{
 "cells": [
  {
   "cell_type": "markdown",
   "metadata": {},
   "source": [
    "# HW1"
   ]
  },
  {
   "cell_type": "markdown",
   "metadata": {},
   "source": [
    "## lambda"
   ]
  },
  {
   "cell_type": "code",
   "execution_count": 1,
   "metadata": {},
   "outputs": [
    {
     "name": "stdout",
     "output_type": "stream",
     "text": [
      "請輸入數字:100\n",
      "200\n"
     ]
    }
   ],
   "source": [
    "x=int(input('請輸入數字:'))\n",
    "def num_add100(num,func):\n",
    "    print(func(num))\n",
    "num_add100(x,lambda num :num+100)"
   ]
  },
  {
   "cell_type": "markdown",
   "metadata": {},
   "source": [
    "## map"
   ]
  },
  {
   "cell_type": "code",
   "execution_count": 3,
   "metadata": {},
   "outputs": [
    {
     "name": "stdout",
     "output_type": "stream",
     "text": [
      "請輸入數字：400\n"
     ]
    },
    {
     "data": {
      "text/plain": [
       "[500]"
      ]
     },
     "execution_count": 3,
     "metadata": {},
     "output_type": "execute_result"
    }
   ],
   "source": [
    "x=int(input('請輸入數字：'))\n",
    "list(map(lambda a,b : a + b, [x], [100]))"
   ]
  },
  {
   "cell_type": "markdown",
   "metadata": {},
   "source": [
    "# HW2"
   ]
  },
  {
   "cell_type": "code",
   "execution_count": 4,
   "metadata": {},
   "outputs": [
    {
     "name": "stdout",
     "output_type": "stream",
     "text": [
      "執⾏函式 add_ints\n",
      "參數位置 (3, 5)\n",
      "關鍵字參數 {}\n",
      "結果: 8\n",
      "執⾏函式 new_function\n",
      "參數位置 (5, 10)\n",
      "關鍵字參數 {}\n",
      "New結果: 50\n",
      "結果: 50\n"
     ]
    },
    {
     "data": {
      "text/plain": [
       "50"
      ]
     },
     "execution_count": 4,
     "metadata": {},
     "output_type": "execute_result"
    }
   ],
   "source": [
    "def document_it(func): \n",
    "    def new_function(*args, **kwargs): \n",
    "        print('執⾏函式',func.__name__) \n",
    "        print('參數位置', args)  \n",
    "        print('關鍵字參數', kwargs) \n",
    "        result = func(*args, **kwargs) \n",
    "        print('結果:',result) \n",
    "        return result \n",
    "    return new_function\n",
    "@document_it \n",
    "def add_ints(a, b): \n",
    "    return a + b \n",
    "add_ints(3, 5)\n",
    "def multiple_it(func): \n",
    "    def new_function(*args, **kwargs):     \n",
    "        result = func(*args, **kwargs) \n",
    "        print('New結果:',result) \n",
    "        return result  \n",
    "    return new_function\n",
    "@document_it \n",
    "@multiple_it \n",
    "def add_ints(a, b): \n",
    "    return a * b \n",
    "add_ints(5, 10) "
   ]
  },
  {
   "cell_type": "markdown",
   "metadata": {},
   "source": [
    "# HW3"
   ]
  },
  {
   "cell_type": "code",
   "execution_count": 6,
   "metadata": {},
   "outputs": [
    {
     "name": "stdout",
     "output_type": "stream",
     "text": [
      "請輸入數字:123\n",
      "123\n",
      "輸入的是整數\n"
     ]
    }
   ],
   "source": [
    "x=input('請輸入數字:')\n",
    "try:\n",
    "    a=type(int(x))\n",
    "    a==int\n",
    "    print(x)\n",
    "    print('輸入的是整數')\n",
    "except:\n",
    "    print('出錯，請重新輸入')"
   ]
  }
 ],
 "metadata": {
  "kernelspec": {
   "display_name": "Python 3",
   "language": "python",
   "name": "python3"
  },
  "language_info": {
   "codemirror_mode": {
    "name": "ipython",
    "version": 3
   },
   "file_extension": ".py",
   "mimetype": "text/x-python",
   "name": "python",
   "nbconvert_exporter": "python",
   "pygments_lexer": "ipython3",
   "version": "3.6.4"
  }
 },
 "nbformat": 4,
 "nbformat_minor": 2
}
